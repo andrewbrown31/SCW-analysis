{
 "cells": [
  {
   "cell_type": "code",
   "execution_count": 25,
   "metadata": {},
   "outputs": [],
   "source": [
    "#This is a test jupyter notebook!\n",
    "\n",
    "#Load modules\n",
    "from wrf_parallel import *\n",
    "import matplotlib.pyplot as plt\n",
    "from mpl_toolkits.basemap import Basemap"
   ]
  },
  {
   "cell_type": "code",
   "execution_count": 2,
   "metadata": {},
   "outputs": [],
   "source": [
    "#Set domain/time\n",
    "\n",
    "start_lat = -38; end_lat = -26; start_lon = 132; end_lon = 142\n",
    "domain = [start_lat,end_lat,start_lon,end_lon]\n",
    "time = [dt.datetime.strptime(\"2016092806\",\"%Y%m%d%H\"),dt.datetime.strptime(\"2016092806\",\"%Y%m%d%H\")]"
   ]
  },
  {
   "cell_type": "code",
   "execution_count": 3,
   "metadata": {},
   "outputs": [
    {
     "name": "stderr",
     "output_type": "stream",
     "text": [
      "/g/data/eg3/ab4502/miniconda3/envs/wrfpython3.6/lib/python3.6/site-packages/pint/quantity.py:1488: RuntimeWarning: divide by zero encountered in log\n",
      "  return ufunc(*mobjs)\n"
     ]
    }
   ],
   "source": [
    "#Load BARRA data\n",
    "\n",
    "ta,temp1,hur,hgt,terrain,p,ps,wap,ua,va,uas,vas,tas,ta2d,wg10,lon,lat,date_list = \\\n",
    "        read_barra_fc(domain,time)"
   ]
  },
  {
   "cell_type": "code",
   "execution_count": 6,
   "metadata": {},
   "outputs": [],
   "source": [
    "#Calculate other variables such as wet bulb and dew point\n",
    "\n",
    "t=0\n",
    "p_3d = np.moveaxis(np.tile(p,[ta.shape[2],ta.shape[3],1]),[0,1,2],[1,2,0]).astype(np.float32)\n",
    "dp = get_dp(hur=hur[t], ta=ta[t], dp_mask = False)\n",
    "sfc_ta = np.insert(ta[t], 0, tas[t], axis=0)\n",
    "sfc_hgt = np.insert(hgt[t], 0, terrain, axis=0)\n",
    "sfc_dp = np.insert(dp, 0, ta2d[t], axis=0)\n",
    "sfc_p_3d = np.insert(p_3d, 0, ps[t], axis=0)\n",
    "sfc_ua = np.insert(ua[t], 0, uas[t], axis=0)\n",
    "sfc_va = np.insert(va[t], 0, vas[t], axis=0)\n",
    "sfc_wap = np.insert(wap[t], 0, np.zeros(vas[t].shape), axis=0)\n",
    "a,temp1,temp2 = np.meshgrid(np.arange(sfc_p_3d.shape[0]) , np.arange(sfc_p_3d.shape[1]),\\\n",
    "         np.arange(sfc_p_3d.shape[2]))\n",
    "sort_inds = np.flip(np.lexsort([np.swapaxes(a,1,0),sfc_p_3d],axis=0), axis=0)\n",
    "sfc_hgt = np.take_along_axis(sfc_hgt, sort_inds, axis=0)\n",
    "sfc_dp = np.take_along_axis(sfc_dp, sort_inds, axis=0)\n",
    "sfc_p_3d = np.take_along_axis(sfc_p_3d, sort_inds, axis=0)\n",
    "sfc_ua = np.take_along_axis(sfc_ua, sort_inds, axis=0)\n",
    "sfc_va = np.take_along_axis(sfc_va, sort_inds, axis=0)\n",
    "sfc_ta = np.take_along_axis(sfc_ta, sort_inds, axis=0)\n",
    "sfc_ta_unit = units.units.degC*sfc_ta\n",
    "sfc_dp_unit = units.units.degC*sfc_dp\n",
    "sfc_p_unit = units.units.hectopascals*sfc_p_3d\n",
    "sfc_hur_unit = mpcalc.relative_humidity_from_dewpoint(sfc_ta_unit, sfc_dp_unit)*\\\n",
    "        100*units.units.percent\n",
    "sfc_q_unit = mpcalc.mixing_ratio_from_relative_humidity(sfc_hur_unit,\\\n",
    "        sfc_ta_unit,sfc_p_unit)\n",
    "sfc_theta_unit = mpcalc.potential_temperature(sfc_p_unit,sfc_ta_unit)\n",
    "sfc_thetae_unit = mpcalc.equivalent_potential_temperature(sfc_p_unit,sfc_ta_unit,sfc_dp_unit)\n",
    "sfc_q = np.array(sfc_q_unit)\n",
    "sfc_hur = np.array(sfc_hur_unit)\n",
    "#sfc_wb = sfc_ta - (1/3 * (sfc_ta - sfc_dp))\n",
    "sfc_wb = np.array(wrf.wetbulb( sfc_p_3d*100, sfc_ta+273.15, sfc_q, units=\"degC\"))"
   ]
  },
  {
   "cell_type": "code",
   "execution_count": 7,
   "metadata": {},
   "outputs": [],
   "source": [
    "#Calculate mixed-layer parcel indices, based on avg sfc-100 hPa AGL layer parcel.\n",
    "\n",
    "ml_inds = ((sfc_p_3d <= ps[t]) & (sfc_p_3d >= (ps[t] - 100)))\n",
    "ml_p3d_avg = ( np.ma.masked_where(~ml_inds, sfc_p_3d).min(axis=0) + np.ma.masked_where(~ml_inds, sfc_p_3d).max(axis=0) ) / 2.\n",
    "ml_hgt_avg = ( np.ma.masked_where(~ml_inds, sfc_hgt).min(axis=0) + np.ma.masked_where(~ml_inds, sfc_hgt).max(axis=0) ) / 2.\n",
    "ml_ta_avg = trapz_int3d(sfc_ta, sfc_p_3d, ml_inds ).astype(np.float32)\n",
    "ml_q_avg = trapz_int3d(sfc_q, sfc_p_3d, ml_inds ).astype(np.float32)\n",
    "ml_ta_arr = np.insert(sfc_ta,0,ml_ta_avg,axis=0)\n",
    "ml_q_arr = np.insert(sfc_q,0,ml_q_avg,axis=0)\n",
    "ml_hgt_arr = np.insert(sfc_hgt,0,ml_hgt_avg,axis=0)\n",
    "ml_p3d_arr = np.insert(sfc_p_3d,0,ml_p3d_avg,axis=0)\n",
    "a,temp1,temp2 = np.meshgrid(np.arange(ml_p3d_arr.shape[0]) ,\\\n",
    "         np.arange(ml_p3d_arr.shape[1]), np.arange(ml_p3d_arr.shape[2]))\n",
    "sort_inds = np.flipud(np.lexsort([np.swapaxes(a,1,0),ml_p3d_arr],axis=0))\n",
    "ml_ta_arr = np.take_along_axis(ml_ta_arr, sort_inds, axis=0)\n",
    "ml_p3d_arr = np.take_along_axis(ml_p3d_arr, sort_inds, axis=0)\n",
    "ml_hgt_arr = np.take_along_axis(ml_hgt_arr, sort_inds, axis=0)\n",
    "ml_q_arr = np.take_along_axis(ml_q_arr, sort_inds, axis=0)\n",
    "cape3d_mlavg = wrf.cape_3d(ml_p3d_arr.astype(np.float64),\\\n",
    "        (ml_ta_arr + 273.15).astype(np.float64),\\\n",
    "        ml_q_arr.astype(np.float64),\\\n",
    "        ml_hgt_arr.astype(np.float64),terrain.astype(np.float64),\\\n",
    "        ps[t].astype(np.float64),False,meta=False, missing=0)\n",
    "ml_cape = np.ma.masked_where(~((ml_ta_arr==ml_ta_avg) & (ml_p3d_arr==ml_p3d_avg)),\\\n",
    "        cape3d_mlavg.data[0]).max(axis=0).filled(0)\n",
    "ml_cin = np.ma.masked_where(~((ml_ta_arr==ml_ta_avg) & (ml_p3d_arr==ml_p3d_avg)),\\\n",
    "        cape3d_mlavg.data[1]).max(axis=0).filled(0)\n",
    "ml_lfc = np.ma.masked_where(~((ml_ta_arr==ml_ta_avg) & (ml_p3d_arr==ml_p3d_avg)),\\\n",
    "        cape3d_mlavg.data[2]).max(axis=0).filled(0)\n",
    "ml_lcl = np.ma.masked_where(~((ml_ta_arr==ml_ta_avg) & (ml_p3d_arr==ml_p3d_avg)),\\\n",
    "        cape3d_mlavg.data[3]).max(axis=0).filled(0)\n",
    "ml_el = np.ma.masked_where(~((ml_ta_arr==ml_ta_avg) & (ml_p3d_arr==ml_p3d_avg)),\\\n",
    "        cape3d_mlavg.data[4]).max(axis=0).filled(0)"
   ]
  },
  {
   "cell_type": "code",
   "execution_count": 18,
   "metadata": {},
   "outputs": [
    {
     "name": "stderr",
     "output_type": "stream",
     "text": [
      "/home/548/ab4502/working/ExtremeWind/SkewT/skewt/SkewT.py:1014: RuntimeWarning: All-NaN slice encountered\n",
      "  ddraft_temp = nanmax(tparcel,axis=1)\n"
     ]
    }
   ],
   "source": [
    "#Get DCAPE\n",
    "\n",
    "dcape, ddraft_temp = get_dcape(np.array(sfc_p_3d[np.concatenate([[1100], p]) >= 300]), \\\n",
    "                        sfc_ta[np.concatenate([[1100], p]) >= 300], \\\n",
    "                        sfc_q[np.concatenate([[1100], p]) >= 300], \\\n",
    "                        sfc_hgt[np.concatenate([[1100], p]) >= 300], \\\n",
    "                        np.array(p[p>=300]), ps[t])\n",
    "sfc_thetae300 = sfc_thetae_unit[np.concatenate([[1100], p]) >= 300].data\n",
    "sfc_p300 = sfc_p_3d[np.concatenate([[1100], p]) >= 300]\n",
    "sfc_thetae300[(ps[t] - sfc_p300) > 400] = np.nan\n",
    "sfc_thetae300[(sfc_p300 > ps[t])] = np.nan\n",
    "#Calculate for all levels (sfc to 400 hPa agl), and then mask based on height agl \n",
    "dcape = np.nanargmin(sfc_thetae300, axis=0).choose(dcape)"
   ]
  },
  {
   "cell_type": "code",
   "execution_count": 26,
   "metadata": {},
   "outputs": [
    {
     "data": {
      "image/png": "[encoded data removed]",
      "text/plain": [
       "<Figure size 432x288 with 8 Axes>"
      ]
     },
     "metadata": {
      "needs_background": "light"
     },
     "output_type": "display_data"
    }
   ],
   "source": [
    "#PLOT!\n",
    "m = Basemap(llcrnrlon=132, llcrnrlat=-38, urcrnrlon=142, urcrnrlat=-26,projection=\"cyl\",resolution=\"h\")\n",
    "x,y = np.meshgrid(lon,lat)\n",
    "plt.subplot(221)\n",
    "plt.contourf(x,y,ml_el,cmap=plt.get_cmap(\"Reds\"));plt.colorbar();m.drawcoastlines()\n",
    "plt.subplot(222)\n",
    "plt.contourf(x,y,ml_cape,cmap=plt.get_cmap(\"Reds\"));plt.colorbar();m.drawcoastlines()\n",
    "plt.subplot(223)\n",
    "plt.contourf(x,y,ml_cin,cmap=plt.get_cmap(\"Reds\"));plt.colorbar();m.drawcoastlines()\n",
    "plt.subplot(224)\n",
    "plt.contourf(x,y,dcape,cmap=plt.get_cmap(\"Reds\"));plt.colorbar();m.drawcoastlines()\n",
    "plt.subplots_adjust(hspace=0.3, wspace=0.3)"
   ]
  },
  {
   "cell_type": "code",
   "execution_count": null,
   "metadata": {},
   "outputs": [],
   "source": []
  }
 ],
 "metadata": {
  "kernelspec": {
   "display_name": "Python [conda env:miniconda3-wrfpython3.6]",
   "language": "python",
   "name": "conda-env-miniconda3-wrfpython3.6-py"
  },
  "language_info": {
   "codemirror_mode": {
    "name": "ipython",
    "version": 3
   },
   "file_extension": ".py",
   "mimetype": "text/x-python",
   "name": "python",
   "nbconvert_exporter": "python",
   "pygments_lexer": "ipython3",
   "version": "3.6.9"
  }
 },
 "nbformat": 4,
 "nbformat_minor": 4
}
